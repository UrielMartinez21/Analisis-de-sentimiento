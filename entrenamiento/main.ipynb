{
 "cells": [
  {
   "cell_type": "markdown",
   "metadata": {},
   "source": [
    "## Bibliotecas"
   ]
  },
  {
   "cell_type": "code",
   "execution_count": 22,
   "metadata": {},
   "outputs": [],
   "source": [
    "import os\n",
    "import re\n",
    "import pickle\n",
    "import numpy as np\n",
    "import pandas as pd\n",
    "from sklearn.metrics import f1_score\n",
    "from scipy.sparse import hstack, csr_matrix\n",
    "from sklearn.metrics import classification_report\n",
    "from sklearn.linear_model import LogisticRegression\n",
    "from sklearn.model_selection import train_test_split\n",
    "from sklearn.feature_extraction.text import CountVectorizer"
   ]
  },
  {
   "cell_type": "markdown",
   "metadata": {},
   "source": [
    "## Cargar información"
   ]
  },
  {
   "cell_type": "code",
   "execution_count": 24,
   "metadata": {},
   "outputs": [],
   "source": [
    "with open(\"../normalizacion_texto/lista_contenido_normalizado.pkl\", \"rb\") as f:\n",
    "    corpus = pickle.load(f)"
   ]
  },
  {
   "cell_type": "code",
   "execution_count": 3,
   "metadata": {},
   "outputs": [],
   "source": [
    "data = pd.read_excel('../apoyo/Rest_Mex_2022.xlsx')\n",
    "y = data['Polarity'].values"
   ]
  },
  {
   "cell_type": "markdown",
   "metadata": {},
   "source": [
    "## Train y test"
   ]
  },
  {
   "cell_type": "code",
   "execution_count": 4,
   "metadata": {},
   "outputs": [],
   "source": [
    "x_train, x_test, y_train, y_test = train_test_split(corpus, y, test_size=0.2, random_state=0)"
   ]
  },
  {
   "cell_type": "markdown",
   "metadata": {},
   "source": [
    "## Representación de texto"
   ]
  },
  {
   "cell_type": "code",
   "execution_count": 5,
   "metadata": {},
   "outputs": [],
   "source": [
    "# --> Vector frecuencia\n",
    "vectorizador_frecuencia = CountVectorizer(token_pattern=r'(?u)\\w\\w+|\\w\\w+\\n|\\.')\n",
    "\n",
    "X_train_vector = vectorizador_frecuencia.fit_transform(x_train)\n",
    "X_test_vector = vectorizador_frecuencia.transform(x_test)"
   ]
  },
  {
   "cell_type": "markdown",
   "metadata": {},
   "source": [
    "## Polaridades"
   ]
  },
  {
   "cell_type": "code",
   "execution_count": 6,
   "metadata": {},
   "outputs": [],
   "source": [
    "def load_sel():\n",
    "\t\"\"\"\n",
    "\tFunción que carga el diccionario de polaridades de SEL\n",
    "\t\"\"\"\n",
    "\tlexicon_sel = {}\n",
    "\tinput_file = open('../apoyo/SEL_full.txt', 'r')\n",
    "\n",
    "\t# Para cada línea del archivo\n",
    "\tfor line in input_file:\n",
    "\t\t#Las líneas del lexicon tienen el siguiente formato:\n",
    "\t\t#abundancia\t0\t0\t50\t50\t0.83\tAlegría\n",
    "\t\t\n",
    "\t\tpalabras = line.split(\"\\t\")\t\t\t\t\t# Esto hara que se separe la linea en una lista de palabras\n",
    "\t\tpalabras[6]= re.sub('\\n', '', palabras[6])\t# Esto hara que se elimine el salto de linea\n",
    "\t\tpair = (palabras[6], palabras[5])\t\t\t# Esto hara que se guarde la palabra y su valor de polaridad\n",
    "\n",
    "\t\tif lexicon_sel:\t\t\t\t\t\t\t\t# Si el diccionario no esta vacio\n",
    "\t\t\tif palabras[0] not in lexicon_sel:\t\t# Si la palabra no esta en el diccionario\n",
    "\t\t\t\tlista = [pair]\t\t\t\t\t\t# Se crea una lista con la palabra y su valor de polaridad\n",
    "\t\t\t\tlexicon_sel[palabras[0]] = lista\t# Se agrega la lista al diccionario\n",
    "\t\t\telse:\n",
    "\t\t\t\tlexicon_sel[palabras[0]].append (pair)\t# Si la palabra ya esta en el diccionario, se agrega la palabra y su valor de polaridad a la lista\n",
    "\t\telse:\t\t\t\t\t\t\t\t\t\t# Si el diccionario esta vacio\n",
    "\t\t\tlista = [pair]\t\t\t\t\t\t\t# Se crea una lista con la palabra y su valor de polaridad\n",
    "\t\t\tlexicon_sel[palabras[0]] = lista\t\t# Se agrega la lista al diccionario\n",
    "\n",
    "\tinput_file.close()\t\t\t\t\t\t\t\t# Se cierra el archivo\n",
    "\tdel lexicon_sel['Palabra']; #Esta llave se inserta porque es parte del encabezado del diccionario, por lo que se requiere eliminar\n",
    "\t#Estructura resultante\n",
    "\t\t#'hastiar': [('Enojo\\n', '0.629'), ('Repulsi\\xf3n\\n', '0.596')]\n",
    "\treturn lexicon_sel\t\t\t\t\t\t\t\t# Se regresa el diccionario\n",
    "\n",
    "def getSELFeatures(cadenas, lexicon_sel):\n",
    "\t\"\"\"\n",
    "\tFunción que obtiene las características de SEL\n",
    "\t\"\"\"\n",
    "\t#'hastiar': [('Enojo\\n', '0.629'), ('Repulsi\\xf3n\\n', '0.596')]\n",
    "\tfeatures = []\n",
    "\tfor cadena in cadenas:\n",
    "\t\tvalor_alegria = 0.0\n",
    "\t\tvalor_enojo = 0.0\n",
    "\t\tvalor_miedo = 0.0\n",
    "\t\tvalor_repulsion = 0.0\n",
    "\t\tvalor_sorpresa = 0.0\n",
    "\t\tvalor_tristeza = 0.0\n",
    "\t\tcadena_palabras = re.split('\\s+', cadena)\n",
    "\t\tdic = {}\n",
    "\t\tfor palabra in cadena_palabras:\n",
    "\t\t\tif palabra in lexicon_sel:\n",
    "\t\t\t\tcaracteristicas = lexicon_sel[palabra]\n",
    "\t\t\t\tfor emocion, valor in caracteristicas:\n",
    "\t\t\t\t\tif emocion == 'Alegría':\n",
    "\t\t\t\t\t\tvalor_alegria = valor_alegria + float(valor)\n",
    "\t\t\t\t\telif emocion == 'Tristeza':\n",
    "\t\t\t\t\t\tvalor_tristeza = valor_tristeza + float(valor)\n",
    "\t\t\t\t\telif emocion == 'Enojo':\n",
    "\t\t\t\t\t\tvalor_enojo = valor_enojo + float(valor)\n",
    "\t\t\t\t\telif emocion == 'Repulsión':\n",
    "\t\t\t\t\t\tvalor_repulsion = valor_repulsion + float(valor)\n",
    "\t\t\t\t\telif emocion == 'Miedo':\n",
    "\t\t\t\t\t\tvalor_miedo = valor_miedo + float(valor)\n",
    "\t\t\t\t\telif emocion == 'Sorpresa':\n",
    "\t\t\t\t\t\tvalor_sorpresa = valor_sorpresa + float(valor)\n",
    "\t\tdic['__alegria__'] = valor_alegria\n",
    "\t\tdic['__tristeza__'] = valor_tristeza\n",
    "\t\tdic['__enojo__'] = valor_enojo\n",
    "\t\tdic['__repulsion__'] = valor_repulsion\n",
    "\t\tdic['__miedo__'] = valor_miedo\n",
    "\t\tdic['__sorpresa__'] = valor_sorpresa\n",
    "\t\t\n",
    "\t\t#Esto es para los valores acumulados del mapeo a positivo (alegría + sorpresa) y negativo (enojo + miedo + repulsión + tristeza)\n",
    "\t\tdic['acumuladopositivo'] = dic['__alegria__'] + dic['__sorpresa__']\n",
    "\t\tdic['acumuladonegative'] = dic['__enojo__'] + dic['__miedo__'] + dic['__repulsion__'] + dic['__tristeza__']\n",
    "\t\t\n",
    "\t\tfeatures.append (dic)\n",
    "\treturn features"
   ]
  },
  {
   "cell_type": "code",
   "execution_count": 7,
   "metadata": {},
   "outputs": [],
   "source": [
    "if (os.path.exists('lexicon_sel.pkl')):\n",
    "\t\tlexicon_sel_file = open ('lexicon_sel.pkl','rb')\n",
    "\t\tlexicon_sel = pickle.load(lexicon_sel_file)\n",
    "else:\n",
    "\tlexicon_sel = load_sel()\n",
    "\tlexicon_sel_file = open ('lexicon_sel.pkl','wb')\n",
    "\tpickle.dump(lexicon_sel, lexicon_sel_file)\n",
    "\tlexicon_sel_file.close()"
   ]
  },
  {
   "cell_type": "code",
   "execution_count": 8,
   "metadata": {},
   "outputs": [],
   "source": [
    "# --> crear polaridades\n",
    "polaridades_train = getSELFeatures(x_train, lexicon_sel)\n",
    "polaridades_test = getSELFeatures(x_test, lexicon_sel)"
   ]
  },
  {
   "cell_type": "code",
   "execution_count": 9,
   "metadata": {},
   "outputs": [],
   "source": [
    "def polaridad_cadenas(polaridades):\n",
    "    \"\"\"\n",
    "    Esta función regresa un arreglo con los valores de polaridad de cada cadena\n",
    "    \"\"\"\n",
    "\n",
    "    polaridad_cadenas = []\n",
    "    for x in range(len(polaridades)):\n",
    "        polaridad_cadena_pos = np.array([polaridades[x]['acumuladopositivo']])\n",
    "        polaridad_cadena_neg = np.array([polaridades[x]['acumuladonegative']])\n",
    "        polaridad_cadena = np.concatenate((polaridad_cadena_pos, polaridad_cadena_neg), axis=0)\n",
    "        polaridad_cadenas.append(polaridad_cadena)\n",
    "    return polaridad_cadenas"
   ]
  },
  {
   "cell_type": "code",
   "execution_count": 10,
   "metadata": {},
   "outputs": [
    {
     "name": "stdout",
     "output_type": "stream",
     "text": [
      "[0.892 1.754]\n"
     ]
    }
   ],
   "source": [
    "polaridad_cadenas_train = polaridad_cadenas(polaridades_train)\n",
    "polaridad_cadenas_test = polaridad_cadenas(polaridades_test)\n",
    "\n",
    "print(polaridad_cadenas_train[0])"
   ]
  },
  {
   "cell_type": "code",
   "execution_count": 11,
   "metadata": {},
   "outputs": [
    {
     "name": "stdout",
     "output_type": "stream",
     "text": [
      "  (0, 0)\t0.8920000000000001\n",
      "  (0, 1)\t1.754\n"
     ]
    }
   ],
   "source": [
    "matriz_polaridades_train = csr_matrix(polaridad_cadenas_train)\n",
    "matriz_polaridades_test = csr_matrix(polaridad_cadenas_test)\n",
    "print(matriz_polaridades_train[0])"
   ]
  },
  {
   "cell_type": "code",
   "execution_count": 12,
   "metadata": {},
   "outputs": [
    {
     "name": "stdout",
     "output_type": "stream",
     "text": [
      "(1, 37454)\n"
     ]
    }
   ],
   "source": [
    "# --> Concatear vectores con polaridades\n",
    "X_train_vector = hstack((X_train_vector, matriz_polaridades_train))\n",
    "X_test_vector = hstack((X_test_vector, matriz_polaridades_test))\n",
    "\n",
    "print(X_train_vector[0].shape)"
   ]
  },
  {
   "cell_type": "markdown",
   "metadata": {},
   "source": [
    "## Entrenamiento "
   ]
  },
  {
   "cell_type": "code",
   "execution_count": 13,
   "metadata": {},
   "outputs": [
    {
     "name": "stdout",
     "output_type": "stream",
     "text": [
      "F1 score:  0.48694638535193624\n"
     ]
    }
   ],
   "source": [
    "clf = LogisticRegression(solver='lbfgs', max_iter=2000)\n",
    "clf.fit(X_train_vector, y_train)\n",
    "\n",
    "y_pred = clf.predict(X_test_vector)\n"
   ]
  },
  {
   "cell_type": "markdown",
   "metadata": {},
   "source": [
    "## Evaluar rendimiento"
   ]
  },
  {
   "cell_type": "code",
   "execution_count": 18,
   "metadata": {},
   "outputs": [
    {
     "name": "stdout",
     "output_type": "stream",
     "text": [
      "Accuracy: 73.34 %\n",
      "F1 score: 48.69 %\n"
     ]
    }
   ],
   "source": [
    "# --> Métricas\n",
    "print(f\"Accuracy: {round(100*clf.score(X_test_vector, y_test), 2)} %\")\n",
    "print(f\"F1 score: {round(100*f1_score(y_test, y_pred, average='macro'), 2)} %\")"
   ]
  },
  {
   "cell_type": "code",
   "execution_count": 19,
   "metadata": {},
   "outputs": [
    {
     "data": {
      "image/png": "[encoded data removed]",
      "text/plain": [
       "<Figure size 640x480 with 1 Axes>"
      ]
     },
     "metadata": {},
     "output_type": "display_data"
    }
   ],
   "source": [
    "# matriz de confusión\n",
    "from sklearn.metrics import confusion_matrix    # la matriz de confusion sirve para ver los falsos positivos y negativos\n",
    "import seaborn as sns                           # libreria para graficar\n",
    "import matplotlib.pyplot as plt                 # libreria para graficar\n",
    "\n",
    "mat = confusion_matrix(y_test, y_pred)\n",
    "sns.heatmap(mat.T, square=True, annot=True, fmt='d', cbar=False)\n",
    "plt.xlabel('Verdaderos')\n",
    "plt.ylabel('Predichos')\n",
    "plt.show()"
   ]
  },
  {
   "cell_type": "code",
   "execution_count": 21,
   "metadata": {},
   "outputs": [
    {
     "name": "stdout",
     "output_type": "stream",
     "text": [
      "              precision    recall  f1-score   support\n",
      "\n",
      "           1       0.48      0.47      0.48       104\n",
      "           2       0.36      0.27      0.31       145\n",
      "           3       0.42      0.36      0.39       422\n",
      "           4       0.44      0.36      0.40      1163\n",
      "           5       0.84      0.90      0.86      4209\n",
      "\n",
      "    accuracy                           0.73      6043\n",
      "   macro avg       0.51      0.47      0.49      6043\n",
      "weighted avg       0.71      0.73      0.72      6043\n",
      "\n"
     ]
    }
   ],
   "source": [
    "print(classification_report(y_test, y_pred))"
   ]
  },
  {
   "cell_type": "markdown",
   "metadata": {},
   "source": [
    "## Guardar aprendizaje"
   ]
  },
  {
   "cell_type": "code",
   "execution_count": 25,
   "metadata": {},
   "outputs": [],
   "source": [
    "# --> Guardar modelo\n",
    "with open('modelo.pkl', 'wb') as f:\n",
    "    pickle.dump(clf, f)"
   ]
  },
  {
   "cell_type": "code",
   "execution_count": 35,
   "metadata": {},
   "outputs": [],
   "source": [
    "# --> Guardar vectorizador\n",
    "with open('vectorizador.pkl', 'wb') as f:\n",
    "    pickle.dump(vectorizador_frecuencia, f)"
   ]
  }
 ],
 "metadata": {
  "kernelspec": {
   "display_name": "Python 3",
   "language": "python",
   "name": "python3"
  },
  "language_info": {
   "codemirror_mode": {
    "name": "ipython",
    "version": 3
   },
   "file_extension": ".py",
   "mimetype": "text/x-python",
   "name": "python",
   "nbconvert_exporter": "python",
   "pygments_lexer": "ipython3",
   "version": "3.11.3"
  }
 },
 "nbformat": 4,
 "nbformat_minor": 2
}
