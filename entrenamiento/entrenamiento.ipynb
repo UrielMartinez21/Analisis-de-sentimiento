{
 "cells": [
  {
   "cell_type": "markdown",
   "metadata": {},
   "source": [
    "## Bibliotecas"
   ]
  },
  {
   "cell_type": "code",
   "execution_count": 29,
   "metadata": {},
   "outputs": [],
   "source": [
    "import os\n",
    "import re\n",
    "import pickle\n",
    "import statistics\n",
    "import pandas as pd\n",
    "from sklearn.metrics import f1_score\n",
    "from sklearn.model_selection import StratifiedKFold\n",
    "from sklearn.model_selection import train_test_split\n",
    "from sklearn.feature_extraction.text import TfidfVectorizer,CountVectorizer"
   ]
  },
  {
   "cell_type": "code",
   "execution_count": 30,
   "metadata": {},
   "outputs": [],
   "source": [
    "# Importar los modelos de clasificación\n",
    "from sklearn.naive_bayes import MultinomialNB\n",
    "from sklearn.linear_model import LogisticRegression\n",
    "from sklearn.svm import SVC\n",
    "from sklearn.ensemble import RandomForestClassifier\n",
    "from sklearn.neighbors import KNeighborsClassifier\n",
    "from sklearn.neural_network import MLPClassifier\n",
    "\n",
    "# importar xgboost\n",
    "# import xgboost as xgb"
   ]
  },
  {
   "cell_type": "markdown",
   "metadata": {},
   "source": [
    "## Cargar información"
   ]
  },
  {
   "cell_type": "code",
   "execution_count": 31,
   "metadata": {},
   "outputs": [],
   "source": [
    "with open(\"../normalizacion_texto/lista_contenido_normalizado.pkl\", \"rb\") as f:\n",
    "    corpus = pickle.load(f)"
   ]
  },
  {
   "cell_type": "code",
   "execution_count": 32,
   "metadata": {},
   "outputs": [],
   "source": [
    "data = pd.read_excel('../apoyo/Rest_Mex_2022.xlsx')\n",
    "y = data['Polarity'].values"
   ]
  },
  {
   "cell_type": "markdown",
   "metadata": {},
   "source": [
    "## Train y test"
   ]
  },
  {
   "cell_type": "code",
   "execution_count": 33,
   "metadata": {},
   "outputs": [],
   "source": [
    "x_train, x_test, y_train, y_test = train_test_split(corpus, y, test_size=0.2, random_state=0)"
   ]
  },
  {
   "cell_type": "markdown",
   "metadata": {},
   "source": [
    "## Representación de texto"
   ]
  },
  {
   "cell_type": "code",
   "execution_count": 34,
   "metadata": {},
   "outputs": [],
   "source": [
    "# --> Vector Binario\n",
    "# vectorizador_binario = CountVectorizer(binary=True, token_pattern=r'(?u)\\w\\w+|\\w\\w+\\n|\\.')\n",
    "\n",
    "# X_train_vector = vectorizador_binario.fit_transform(x_train)\n",
    "# X_test_vector = vectorizador_binario.transform(x_test)\n",
    "\n",
    "# --> Vector frecuencia\n",
    "# vectorizador_frecuencia = CountVectorizer(token_pattern=r'(?u)\\w\\w+|\\w\\w+\\n|\\.')\n",
    "\n",
    "# X_train_vector = vectorizador_frecuencia.fit_transform(x_train).toarray()\n",
    "# X_test_vector = vectorizador_frecuencia.transform(x_test).toarray()\n",
    "\n",
    "# --> Vector tf-idf\n",
    "vectorizador_tfidf = TfidfVectorizer(token_pattern=r'(?u)\\w\\w+|\\w\\w+\\n|\\.')\n",
    "\n",
    "X_train_vector = vectorizador_tfidf.fit_transform(x_train)\n",
    "X_test_vector = vectorizador_tfidf.transform(x_test)\n"
   ]
  },
  {
   "cell_type": "markdown",
   "metadata": {},
   "source": [
    "## Añadir rasgos extra"
   ]
  },
  {
   "cell_type": "code",
   "execution_count": 39,
   "metadata": {},
   "outputs": [],
   "source": [
    "def load_sel():\n",
    "\tlexicon_sel = {}\n",
    "\tinput_file = open('../apoyo/SEL_full.txt', 'r')\n",
    "\n",
    "\t# Para cada línea del archivo\n",
    "\tfor line in input_file:\n",
    "\t\t#Las líneas del lexicon tienen el siguiente formato:\n",
    "\t\t#abundancia\t0\t0\t50\t50\t0.83\tAlegría\n",
    "\t\t\n",
    "\t\tpalabras = line.split(\"\\t\")\t\t\t\t\t# Esto hara que se separe la linea en una lista de palabras\n",
    "\t\tpalabras[6]= re.sub('\\n', '', palabras[6])\t# Esto hara que se elimine el salto de linea\n",
    "\t\tpair = (palabras[6], palabras[5])\t\t\t# Esto hara que se guarde la palabra y su valor de polaridad\n",
    "\n",
    "\t\tif lexicon_sel:\t\t\t\t\t\t\t\t# Si el diccionario no esta vacio\n",
    "\t\t\tif palabras[0] not in lexicon_sel:\t\t# Si la palabra no esta en el diccionario\n",
    "\t\t\t\tlista = [pair]\t\t\t\t\t\t# Se crea una lista con la palabra y su valor de polaridad\n",
    "\t\t\t\tlexicon_sel[palabras[0]] = lista\t# Se agrega la lista al diccionario\n",
    "\t\t\telse:\n",
    "\t\t\t\tlexicon_sel[palabras[0]].append (pair)\t# Si la palabra ya esta en el diccionario, se agrega la palabra y su valor de polaridad a la lista\n",
    "\t\telse:\t\t\t\t\t\t\t\t\t\t# Si el diccionario esta vacio\n",
    "\t\t\tlista = [pair]\t\t\t\t\t\t\t# Se crea una lista con la palabra y su valor de polaridad\n",
    "\t\t\tlexicon_sel[palabras[0]] = lista\t\t# Se agrega la lista al diccionario\n",
    "\n",
    "\tinput_file.close()\t\t\t\t\t\t\t\t# Se cierra el archivo\n",
    "\tdel lexicon_sel['Palabra']; #Esta llave se inserta porque es parte del encabezado del diccionario, por lo que se requiere eliminar\n",
    "\t#Estructura resultante\n",
    "\t\t#'hastiar': [('Enojo\\n', '0.629'), ('Repulsi\\xf3n\\n', '0.596')]\n",
    "\treturn lexicon_sel\t\t\t\t\t\t\t\t# Se regresa el diccionario\n",
    "\n",
    "def getSELFeatures(cadenas, lexicon_sel):\n",
    "\t#'hastiar': [('Enojo\\n', '0.629'), ('Repulsi\\xf3n\\n', '0.596')]\n",
    "\tfeatures = []\n",
    "\tfor cadena in cadenas:\n",
    "\t\tvalor_alegria = 0.0\n",
    "\t\tvalor_enojo = 0.0\n",
    "\t\tvalor_miedo = 0.0\n",
    "\t\tvalor_repulsion = 0.0\n",
    "\t\tvalor_sorpresa = 0.0\n",
    "\t\tvalor_tristeza = 0.0\n",
    "\t\tcadena_palabras = re.split('\\s+', cadena)\n",
    "\t\tdic = {}\n",
    "\t\tfor palabra in cadena_palabras:\n",
    "\t\t\tif palabra in lexicon_sel:\n",
    "\t\t\t\tcaracteristicas = lexicon_sel[palabra]\n",
    "\t\t\t\tfor emocion, valor in caracteristicas:\n",
    "\t\t\t\t\tif emocion == 'Alegría':\n",
    "\t\t\t\t\t\tvalor_alegria = valor_alegria + float(valor)\n",
    "\t\t\t\t\telif emocion == 'Tristeza':\n",
    "\t\t\t\t\t\tvalor_tristeza = valor_tristeza + float(valor)\n",
    "\t\t\t\t\telif emocion == 'Enojo':\n",
    "\t\t\t\t\t\tvalor_enojo = valor_enojo + float(valor)\n",
    "\t\t\t\t\telif emocion == 'Repulsión':\n",
    "\t\t\t\t\t\tvalor_repulsion = valor_repulsion + float(valor)\n",
    "\t\t\t\t\telif emocion == 'Miedo':\n",
    "\t\t\t\t\t\tvalor_miedo = valor_miedo + float(valor)\n",
    "\t\t\t\t\telif emocion == 'Sorpresa':\n",
    "\t\t\t\t\t\tvalor_sorpresa = valor_sorpresa + float(valor)\n",
    "\t\tdic['__alegria__'] = valor_alegria\n",
    "\t\tdic['__tristeza__'] = valor_tristeza\n",
    "\t\tdic['__enojo__'] = valor_enojo\n",
    "\t\tdic['__repulsion__'] = valor_repulsion\n",
    "\t\tdic['__miedo__'] = valor_miedo\n",
    "\t\tdic['__sorpresa__'] = valor_sorpresa\n",
    "\t\t\n",
    "\t\t#Esto es para los valores acumulados del mapeo a positivo (alegría + sorpresa) y negativo (enojo + miedo + repulsión + tristeza)\n",
    "\t\tdic['acumuladopositivo'] = dic['__alegria__'] + dic['__sorpresa__']\n",
    "\t\tdic['acumuladonegative'] = dic['__enojo__'] + dic['__miedo__'] + dic['__repulsion__'] + dic['__tristeza__']\n",
    "\t\t\n",
    "\t\tfeatures.append (dic)\n",
    "\treturn features"
   ]
  },
  {
   "cell_type": "code",
   "execution_count": 40,
   "metadata": {},
   "outputs": [],
   "source": [
    "if (os.path.exists('lexicon_sel.pkl')):\n",
    "\t\tlexicon_sel_file = open ('lexicon_sel.pkl','rb')\n",
    "\t\tlexicon_sel = pickle.load(lexicon_sel_file)\n",
    "else:\n",
    "\tlexicon_sel = load_sel()\n",
    "\tlexicon_sel_file = open ('lexicon_sel.pkl','wb')\n",
    "\tpickle.dump(lexicon_sel, lexicon_sel_file)\n",
    "\tlexicon_sel_file.close()"
   ]
  },
  {
   "cell_type": "code",
   "execution_count": 45,
   "metadata": {},
   "outputs": [],
   "source": [
    "# --> crear polaridades\n",
    "polaridades_train = getSELFeatures(x_train, lexicon_sel)\n",
    "polaridades_test = getSELFeatures(x_test, lexicon_sel)"
   ]
  },
  {
   "cell_type": "markdown",
   "metadata": {},
   "source": [
    "## KFold Cross Validation"
   ]
  },
  {
   "cell_type": "code",
   "execution_count": 21,
   "metadata": {},
   "outputs": [],
   "source": [
    "# clf = MultinomialNB()\n",
    "# clf = LogisticRegression(solver='lbfgs', max_iter=1000)\n",
    "# clf = RandomForestClassifier(n_estimators=100, max_depth=2, random_state=0)\n",
    "# clf = KNeighborsClassifier(n_neighbors=3)\n",
    "clf = MLPClassifier(hidden_layer_sizes=(50, 25), activation='relu', solver='adam', alpha=0.0001, learning_rate='constant', max_iter=200, batch_size='auto', early_stopping=False)\n",
    "# params = {\n",
    "#     'objective': 'multi:softmax',  # Problema de clasificación múltiple\n",
    "#     'num_class': len(set(y_train)),  # Número de clases en el conjunto de datos\n",
    "#     'max_depth': 3,\n",
    "#     'eta': 0.1,\n",
    "# }\n",
    "\n",
    "skf = StratifiedKFold(n_splits=5, shuffle=True, random_state=0)\n",
    "f1_macro = []"
   ]
  },
  {
   "cell_type": "code",
   "execution_count": 22,
   "metadata": {},
   "outputs": [
    {
     "name": "stdout",
     "output_type": "stream",
     "text": [
      "Progreso: 100.0%"
     ]
    }
   ],
   "source": [
    "# --> Iteraciones\n",
    "for entrenamiento, prueba in skf.split(X_train_vector, y_train):\n",
    "    # --> Validacion cruzada\n",
    "    rasgos_entrenamiento = X_train_vector[entrenamiento]\n",
    "    rasgos_prueba = X_train_vector[prueba]\n",
    "\n",
    "    clases_entrenamiento = y_train[entrenamiento]\n",
    "    clases_prueba = y_train[prueba]\n",
    "\n",
    "    # --> Entrenamiento\n",
    "    clf.fit(rasgos_entrenamiento, clases_entrenamiento)\n",
    "    clase_predicha = clf.predict(rasgos_prueba)\n",
    "\n",
    "    # --> Métrica de rendimiento\n",
    "    f1_macro.append(f1_score(clases_prueba, clase_predicha, average='macro'))\n",
    "\n",
    "    # --> Porcentaje avanzado\n",
    "    print(f\"\\rProgreso: {len(f1_macro)/skf.get_n_splits():.1%}\", end=\"\")"
   ]
  },
  {
   "cell_type": "code",
   "execution_count": 23,
   "metadata": {},
   "outputs": [
    {
     "name": "stdout",
     "output_type": "stream",
     "text": [
      "F1 macro: 44.0%\n"
     ]
    }
   ],
   "source": [
    "# --> Resultados\n",
    "print(f\"F1 macro: {round(statistics.mean(f1_macro), 2)*100}%\")\n",
    "\n",
    "# --> Guardar resultados en txt uno sobre otro\n",
    "with open(\"resultados.txt\", \"a\") as f:\n",
    "    f.write(f\"MLPClassifier: {round(statistics.mean(f1_macro), 2)*100}%\\n\")"
   ]
  }
 ],
 "metadata": {
  "kernelspec": {
   "display_name": "Python 3",
   "language": "python",
   "name": "python3"
  },
  "language_info": {
   "codemirror_mode": {
    "name": "ipython",
    "version": 3
   },
   "file_extension": ".py",
   "mimetype": "text/x-python",
   "name": "python",
   "nbconvert_exporter": "python",
   "pygments_lexer": "ipython3",
   "version": "3.11.5"
  }
 },
 "nbformat": 4,
 "nbformat_minor": 2
}
