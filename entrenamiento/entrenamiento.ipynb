{
 "cells": [
  {
   "cell_type": "markdown",
   "metadata": {},
   "source": [
    "## Bibliotecas"
   ]
  },
  {
   "cell_type": "code",
   "execution_count": 1,
   "metadata": {},
   "outputs": [],
   "source": [
    "import pickle\n",
    "import statistics\n",
    "import pandas as pd\n",
    "from sklearn.metrics import f1_score\n",
    "from sklearn.model_selection import StratifiedKFold\n",
    "from sklearn.model_selection import train_test_split\n",
    "from sklearn.feature_extraction.text import TfidfVectorizer,CountVectorizer"
   ]
  },
  {
   "cell_type": "code",
   "execution_count": 2,
   "metadata": {},
   "outputs": [],
   "source": [
    "# Importar los modelos de clasificación\n",
    "from sklearn.naive_bayes import MultinomialNB\n",
    "from sklearn.linear_model import LogisticRegression\n",
    "from sklearn.svm import SVC\n",
    "from sklearn.ensemble import RandomForestClassifier\n",
    "from sklearn.neighbors import KNeighborsClassifier\n",
    "from sklearn.neural_network import MLPClassifier\n",
    "\n",
    "# importar xgboost\n",
    "# import xgboost as xgb"
   ]
  },
  {
   "cell_type": "markdown",
   "metadata": {},
   "source": [
    "## Cargar información"
   ]
  },
  {
   "cell_type": "code",
   "execution_count": 3,
   "metadata": {},
   "outputs": [],
   "source": [
    "with open(\"../normalizacion_texto/lista_contenido_normalizado.pkl\", \"rb\") as f:\n",
    "    corpus = pickle.load(f)"
   ]
  },
  {
   "cell_type": "code",
   "execution_count": 4,
   "metadata": {},
   "outputs": [],
   "source": [
    "data = pd.read_excel('../apoyo/Rest_Mex_2022.xlsx')\n",
    "y = data['Polarity'].values"
   ]
  },
  {
   "cell_type": "markdown",
   "metadata": {},
   "source": [
    "## Train y test"
   ]
  },
  {
   "cell_type": "code",
   "execution_count": 5,
   "metadata": {},
   "outputs": [],
   "source": [
    "x_train, x_test, y_train, y_test = train_test_split(corpus, y, test_size=0.2, random_state=0)"
   ]
  },
  {
   "cell_type": "markdown",
   "metadata": {},
   "source": [
    "## Representación de texto"
   ]
  },
  {
   "cell_type": "code",
   "execution_count": 6,
   "metadata": {},
   "outputs": [],
   "source": [
    "# --> Vector Binario\n",
    "# vectorizador_binario = CountVectorizer(binary=True, token_pattern=r'(?u)\\w\\w+|\\w\\w+\\n|\\.')\n",
    "\n",
    "# X_train_vector = vectorizador_binario.fit_transform(x_train)\n",
    "# X_test_vector = vectorizador_binario.transform(x_test)\n",
    "\n",
    "# --> Vector frecuencia\n",
    "# vectorizador_frecuencia = CountVectorizer(token_pattern=r'(?u)\\w\\w+|\\w\\w+\\n|\\.')\n",
    "\n",
    "# X_train_vector = vectorizador_frecuencia.fit_transform(x_train).toarray()\n",
    "# X_test_vector = vectorizador_frecuencia.transform(x_test).toarray()\n",
    "\n",
    "# --> Vector tf-idf\n",
    "vectorizador_tfidf = TfidfVectorizer(token_pattern=r'(?u)\\w\\w+|\\w\\w+\\n|\\.')\n",
    "\n",
    "X_train_vector = vectorizador_tfidf.fit_transform(x_train)\n",
    "X_test_vector = vectorizador_tfidf.transform(x_test)\n"
   ]
  },
  {
   "cell_type": "markdown",
   "metadata": {},
   "source": [
    "## KFold Cross Validation"
   ]
  },
  {
   "cell_type": "code",
   "execution_count": 21,
   "metadata": {},
   "outputs": [],
   "source": [
    "# clf = MultinomialNB()\n",
    "# clf = LogisticRegression(solver='lbfgs', max_iter=1000)\n",
    "# clf = RandomForestClassifier(n_estimators=100, max_depth=2, random_state=0)\n",
    "# clf = KNeighborsClassifier(n_neighbors=3)\n",
    "clf = MLPClassifier(hidden_layer_sizes=(50, 25), activation='relu', solver='adam', alpha=0.0001, learning_rate='constant', max_iter=200, batch_size='auto', early_stopping=False)\n",
    "# params = {\n",
    "#     'objective': 'multi:softmax',  # Problema de clasificación múltiple\n",
    "#     'num_class': len(set(y_train)),  # Número de clases en el conjunto de datos\n",
    "#     'max_depth': 3,\n",
    "#     'eta': 0.1,\n",
    "# }\n",
    "\n",
    "skf = StratifiedKFold(n_splits=5, shuffle=True, random_state=0)\n",
    "f1_macro = []"
   ]
  },
  {
   "cell_type": "code",
   "execution_count": 22,
   "metadata": {},
   "outputs": [
    {
     "name": "stdout",
     "output_type": "stream",
     "text": [
      "Progreso: 100.0%"
     ]
    }
   ],
   "source": [
    "# --> Iteraciones\n",
    "for entrenamiento, prueba in skf.split(X_train_vector, y_train):\n",
    "    # --> Validacion cruzada\n",
    "    rasgos_entrenamiento = X_train_vector[entrenamiento]\n",
    "    rasgos_prueba = X_train_vector[prueba]\n",
    "\n",
    "    clases_entrenamiento = y_train[entrenamiento]\n",
    "    clases_prueba = y_train[prueba]\n",
    "\n",
    "    # --> Entrenamiento\n",
    "    clf.fit(rasgos_entrenamiento, clases_entrenamiento)\n",
    "    clase_predicha = clf.predict(rasgos_prueba)\n",
    "\n",
    "    # --> Métrica de rendimiento\n",
    "    f1_macro.append(f1_score(clases_prueba, clase_predicha, average='macro'))\n",
    "\n",
    "    # --> Porcentaje avanzado\n",
    "    print(f\"\\rProgreso: {len(f1_macro)/skf.get_n_splits():.1%}\", end=\"\")"
   ]
  },
  {
   "cell_type": "code",
   "execution_count": 23,
   "metadata": {},
   "outputs": [
    {
     "name": "stdout",
     "output_type": "stream",
     "text": [
      "F1 macro: 44.0%\n"
     ]
    }
   ],
   "source": [
    "# --> Resultados\n",
    "print(f\"F1 macro: {round(statistics.mean(f1_macro), 2)*100}%\")\n",
    "\n",
    "# --> Guardar resultados en txt uno sobre otro\n",
    "with open(\"resultados.txt\", \"a\") as f:\n",
    "    f.write(f\"MLPClassifier: {round(statistics.mean(f1_macro), 2)*100}%\\n\")"
   ]
  }
 ],
 "metadata": {
  "kernelspec": {
   "display_name": "Python 3",
   "language": "python",
   "name": "python3"
  },
  "language_info": {
   "codemirror_mode": {
    "name": "ipython",
    "version": 3
   },
   "file_extension": ".py",
   "mimetype": "text/x-python",
   "name": "python",
   "nbconvert_exporter": "python",
   "pygments_lexer": "ipython3",
   "version": "3.11.5"
  }
 },
 "nbformat": 4,
 "nbformat_minor": 2
}
