{
 "cells": [
  {
   "cell_type": "markdown",
   "metadata": {},
   "source": [
    "## Bibliotecas"
   ]
  },
  {
   "cell_type": "code",
   "execution_count": 1,
   "metadata": {},
   "outputs": [],
   "source": [
    "import pandas as pd                             # Dataframes y utilidades\n",
    "from spacy.lang.es.stop_words import STOP_WORDS # Palabras vacias\n",
    "import spacy                                    # Procesamiento de lenguaje natural\n",
    "import pickle                                   # Persistencia de objetos"
   ]
  },
  {
   "cell_type": "markdown",
   "metadata": {},
   "source": [
    "## Cargar Corpus"
   ]
  },
  {
   "cell_type": "code",
   "execution_count": 2,
   "metadata": {},
   "outputs": [
    {
     "data": {
      "text/html": [
       "<div>\n",
       "<style scoped>\n",
       "    .dataframe tbody tr th:only-of-type {\n",
       "        vertical-align: middle;\n",
       "    }\n",
       "\n",
       "    .dataframe tbody tr th {\n",
       "        vertical-align: top;\n",
       "    }\n",
       "\n",
       "    .dataframe thead th {\n",
       "        text-align: right;\n",
       "    }\n",
       "</style>\n",
       "<table border=\"1\" class=\"dataframe\">\n",
       "  <thead>\n",
       "    <tr style=\"text-align: right;\">\n",
       "      <th></th>\n",
       "      <th>Title</th>\n",
       "      <th>Opinion</th>\n",
       "      <th>Polarity</th>\n",
       "      <th>Attraction</th>\n",
       "    </tr>\n",
       "  </thead>\n",
       "  <tbody>\n",
       "    <tr>\n",
       "      <th>0</th>\n",
       "      <td>Pésimo lugar</td>\n",
       "      <td>Piensen dos veces antes de ir a este hotel, te...</td>\n",
       "      <td>1</td>\n",
       "      <td>Hotel</td>\n",
       "    </tr>\n",
       "    <tr>\n",
       "      <th>1</th>\n",
       "      <td>No vayas a lugar de Eddie</td>\n",
       "      <td>Cuatro de nosotros fuimos recientemente a Eddi...</td>\n",
       "      <td>1</td>\n",
       "      <td>Restaurant</td>\n",
       "    </tr>\n",
       "    <tr>\n",
       "      <th>2</th>\n",
       "      <td>Mala relación calidad-precio</td>\n",
       "      <td>seguiré corta y simple: limpieza\\n- bad. Tengo...</td>\n",
       "      <td>1</td>\n",
       "      <td>Hotel</td>\n",
       "    </tr>\n",
       "    <tr>\n",
       "      <th>3</th>\n",
       "      <td>Minusválido? ¡No te alojes aquí!</td>\n",
       "      <td>Al reservar un hotel con multipropiedad Mayan ...</td>\n",
       "      <td>1</td>\n",
       "      <td>Hotel</td>\n",
       "    </tr>\n",
       "    <tr>\n",
       "      <th>4</th>\n",
       "      <td>Es una porqueria no pierdan su tiempo</td>\n",
       "      <td>No pierdan su tiempo ni dinero, venimos porque...</td>\n",
       "      <td>1</td>\n",
       "      <td>Hotel</td>\n",
       "    </tr>\n",
       "  </tbody>\n",
       "</table>\n",
       "</div>"
      ],
      "text/plain": [
       "                                   Title   \n",
       "0                           Pésimo lugar  \\\n",
       "1              No vayas a lugar de Eddie   \n",
       "2           Mala relación calidad-precio   \n",
       "3       Minusválido? ¡No te alojes aquí!   \n",
       "4  Es una porqueria no pierdan su tiempo   \n",
       "\n",
       "                                             Opinion  Polarity  Attraction  \n",
       "0  Piensen dos veces antes de ir a este hotel, te...         1       Hotel  \n",
       "1  Cuatro de nosotros fuimos recientemente a Eddi...         1  Restaurant  \n",
       "2  seguiré corta y simple: limpieza\\n- bad. Tengo...         1       Hotel  \n",
       "3  Al reservar un hotel con multipropiedad Mayan ...         1       Hotel  \n",
       "4  No pierdan su tiempo ni dinero, venimos porque...         1       Hotel  "
      ]
     },
     "execution_count": 2,
     "metadata": {},
     "output_type": "execute_result"
    }
   ],
   "source": [
    "corpus = pd.read_excel('../apoyo/Rest_Mex_2022.xlsx')\n",
    "corpus.head()"
   ]
  },
  {
   "cell_type": "markdown",
   "metadata": {},
   "source": [
    "## Proceso de normalización"
   ]
  },
  {
   "cell_type": "code",
   "execution_count": 8,
   "metadata": {},
   "outputs": [
    {
     "data": {
      "text/html": [
       "<div>\n",
       "<style scoped>\n",
       "    .dataframe tbody tr th:only-of-type {\n",
       "        vertical-align: middle;\n",
       "    }\n",
       "\n",
       "    .dataframe tbody tr th {\n",
       "        vertical-align: top;\n",
       "    }\n",
       "\n",
       "    .dataframe thead th {\n",
       "        text-align: right;\n",
       "    }\n",
       "</style>\n",
       "<table border=\"1\" class=\"dataframe\">\n",
       "  <thead>\n",
       "    <tr style=\"text-align: right;\">\n",
       "      <th></th>\n",
       "      <th>Polarity</th>\n",
       "      <th>Attraction</th>\n",
       "      <th>texto</th>\n",
       "    </tr>\n",
       "  </thead>\n",
       "  <tbody>\n",
       "    <tr>\n",
       "      <th>0</th>\n",
       "      <td>1</td>\n",
       "      <td>Hotel</td>\n",
       "      <td>Pésimo lugar Piensen dos veces antes de ir a e...</td>\n",
       "    </tr>\n",
       "    <tr>\n",
       "      <th>1</th>\n",
       "      <td>1</td>\n",
       "      <td>Restaurant</td>\n",
       "      <td>No vayas a lugar de Eddie Cuatro de nosotros f...</td>\n",
       "    </tr>\n",
       "    <tr>\n",
       "      <th>2</th>\n",
       "      <td>1</td>\n",
       "      <td>Hotel</td>\n",
       "      <td>Mala relación calidad-precio seguiré corta y s...</td>\n",
       "    </tr>\n",
       "    <tr>\n",
       "      <th>3</th>\n",
       "      <td>1</td>\n",
       "      <td>Hotel</td>\n",
       "      <td>Minusválido? ¡No te alojes aquí! Al reservar u...</td>\n",
       "    </tr>\n",
       "    <tr>\n",
       "      <th>4</th>\n",
       "      <td>1</td>\n",
       "      <td>Hotel</td>\n",
       "      <td>Es una porqueria no pierdan su tiempo No pierd...</td>\n",
       "    </tr>\n",
       "  </tbody>\n",
       "</table>\n",
       "</div>"
      ],
      "text/plain": [
       "   Polarity  Attraction                                              texto\n",
       "0         1       Hotel  Pésimo lugar Piensen dos veces antes de ir a e...\n",
       "1         1  Restaurant  No vayas a lugar de Eddie Cuatro de nosotros f...\n",
       "2         1       Hotel  Mala relación calidad-precio seguiré corta y s...\n",
       "3         1       Hotel  Minusválido? ¡No te alojes aquí! Al reservar u...\n",
       "4         1       Hotel  Es una porqueria no pierdan su tiempo No pierd..."
      ]
     },
     "execution_count": 8,
     "metadata": {},
     "output_type": "execute_result"
    }
   ],
   "source": [
    "# Convertir las columnas datetime a strings\n",
    "corpus['Title'] = corpus['Title'].astype(str)\n",
    "corpus['Opinion'] = corpus['Opinion'].astype(str)\n",
    "\n",
    "# Concatenar las dos columnas\n",
    "corpus['texto'] = corpus['Title'] + ' ' + corpus['Opinion']\n",
    "\n",
    "# Eliminar las columnas 'Title' y 'Opinion'\n",
    "corpus = corpus.drop(['Title', 'Opinion'], axis=1)\n",
    "\n",
    "# Verificar el DataFrame después de la eliminación\n",
    "corpus.head()\n"
   ]
  },
  {
   "cell_type": "code",
   "execution_count": 4,
   "metadata": {},
   "outputs": [],
   "source": [
    "# --> Función para normalizar texto\n",
    "\n",
    "# Cargar modelo de lenguaje español\n",
    "nlp = spacy.load('es_core_news_sm')\n",
    "\n",
    "def procesar_texto(texto):\n",
    "    try:\n",
    "        # Tokenización\n",
    "        doc = nlp(texto)\n",
    "        tokens = [token.text for token in doc]\n",
    "        texto_tokenizado = \" \".join(tokens)\n",
    "\n",
    "        # Lematización\n",
    "        doc = nlp(texto_tokenizado)\n",
    "        lemas = [token.lemma_ for token in doc]\n",
    "        texto_lematizado = \" \".join(lemas)\n",
    "\n",
    "        # Eliminación de stopwords\n",
    "        doc = nlp(texto_lematizado)\n",
    "        tokens_filtrados = [token.text for token in doc if token.pos_ not in [\"DET\", \"ADP\", \"CCONJ\", \"PRON\"]]\n",
    "        texto_filtrado = \" \".join(tokens_filtrados)\n",
    "    except:\n",
    "        # Ignorar contenido si no se puede procesar\n",
    "        texto_filtrado = \"\"\n",
    "\n",
    "    return texto_filtrado"
   ]
  },
  {
   "cell_type": "code",
   "execution_count": 9,
   "metadata": {},
   "outputs": [
    {
     "name": "stdout",
     "output_type": "stream",
     "text": [
      "Progreso: 100.0%"
     ]
    }
   ],
   "source": [
    "# --> Normalizar contenido\n",
    "lista_contenido = []\n",
    "\n",
    "for i, contenido in enumerate(corpus['texto']):\n",
    "    lista_contenido.append(procesar_texto(contenido))   # Normalizar contenido\n",
    "    print(f\"\\rProgreso: {i/len(corpus):.1%}\", end=\"\")   # Mostrar porcentaje de avance"
   ]
  },
  {
   "cell_type": "code",
   "execution_count": 10,
   "metadata": {},
   "outputs": [
    {
     "name": "stdout",
     "output_type": "stream",
     "text": [
      "Pésimo lugar Piensen dos veces antes de ir a este hotel, te molestan por todo, mi hijo de seis años traía un inflable de tamaño pequeño y nos decían que era muy grande ahí lo veían llorando y aún así seguían molestando, traíamos una hielera que parece bolsa nada de grande o con ruedas o de ese estilo y Tmb molestándonos las bebidas carísimas y ni agua te dejan tener en la alberca y no hay ni huéspedes en el hotel esto es en el mayan palace el grand mayan pude ser un poco mejor pero la verdad jamás vuelvo a venir a este lugar, te invitan a una cena show de mil pesos por persona y la cena es hoy dogs, las habitaciones nada fuera de lo normal\n",
      "--------------------------------------------------\n",
      "pésimo lugar pensar dos vez antes ir hotel , molestar , hijo seis año traer inflable tamaño pequeño decir que ser mucho grande ahí ver llorar aún así seguir molestar , traíir hielera que parecer bolso nada grande rueda estilo Tmb molestándono bebida carísimo agua dejar tener alberca no haber huésped hotel ser mayan palace grand mayan poder ser poco mejor verdad jamás volver venir lugar , invitar cena show mil pesos persona cena ser hoy dogs , habitación fuera normal\n"
     ]
    }
   ],
   "source": [
    "print(corpus['texto'][0])\n",
    "print(\"--------------------------------------------------\")\n",
    "print(lista_contenido[0])"
   ]
  },
  {
   "cell_type": "markdown",
   "metadata": {},
   "source": [
    "## Guardar datos"
   ]
  },
  {
   "cell_type": "code",
   "execution_count": 12,
   "metadata": {},
   "outputs": [],
   "source": [
    "# --> Guardar lista de contenido normalizado\n",
    "with open('lista_contenido_normalizado.pkl', 'wb') as archivo:\n",
    "    pickle.dump(lista_contenido, archivo)"
   ]
  }
 ],
 "metadata": {
  "kernelspec": {
   "display_name": "Python 3",
   "language": "python",
   "name": "python3"
  },
  "language_info": {
   "codemirror_mode": {
    "name": "ipython",
    "version": 3
   },
   "file_extension": ".py",
   "mimetype": "text/x-python",
   "name": "python",
   "nbconvert_exporter": "python",
   "pygments_lexer": "ipython3",
   "version": "3.11.3"
  }
 },
 "nbformat": 4,
 "nbformat_minor": 2
}
