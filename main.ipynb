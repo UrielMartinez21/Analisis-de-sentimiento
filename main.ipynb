{
 "cells": [
  {
   "cell_type": "markdown",
   "metadata": {},
   "source": [
    "## Bibliotecas"
   ]
  },
  {
   "cell_type": "code",
   "execution_count": 26,
   "metadata": {},
   "outputs": [],
   "source": [
    "import os\n",
    "import re\n",
    "import pickle\n",
    "import numpy as np\n",
    "from scipy.sparse import hstack, csr_matrix"
   ]
  },
  {
   "cell_type": "markdown",
   "metadata": {},
   "source": [
    "## Importar objetos"
   ]
  },
  {
   "cell_type": "code",
   "execution_count": 4,
   "metadata": {},
   "outputs": [],
   "source": [
    "# --> Modelo\n",
    "with open(\"entrenamiento/modelo.pkl\", \"rb\") as f:\n",
    "    modelo = pickle.load(f)"
   ]
  },
  {
   "cell_type": "code",
   "execution_count": 5,
   "metadata": {},
   "outputs": [],
   "source": [
    "# --> Vectorizador\n",
    "with open(\"entrenamiento/vectorizador.pkl\", \"rb\") as f:\n",
    "    vectorizador = pickle.load(f)"
   ]
  },
  {
   "cell_type": "markdown",
   "metadata": {},
   "source": [
    "## Funciones"
   ]
  },
  {
   "cell_type": "code",
   "execution_count": 7,
   "metadata": {},
   "outputs": [],
   "source": [
    "def load_sel():\n",
    "\t\"\"\"\n",
    "\tFunción que carga el diccionario de polaridades de SEL\n",
    "\t\"\"\"\n",
    "\tlexicon_sel = {}\n",
    "\tinput_file = open('apoyo/SEL_full.txt', 'r')\n",
    "\n",
    "\t# Para cada línea del archivo\n",
    "\tfor line in input_file:\n",
    "\t\t#Las líneas del lexicon tienen el siguiente formato:\n",
    "\t\t#abundancia\t0\t0\t50\t50\t0.83\tAlegría\n",
    "\t\t\n",
    "\t\tpalabras = line.split(\"\\t\")\t\t\t\t\t# Esto hara que se separe la linea en una lista de palabras\n",
    "\t\tpalabras[6]= re.sub('\\n', '', palabras[6])\t# Esto hara que se elimine el salto de linea\n",
    "\t\tpair = (palabras[6], palabras[5])\t\t\t# Esto hara que se guarde la palabra y su valor de polaridad\n",
    "\n",
    "\t\tif lexicon_sel:\t\t\t\t\t\t\t\t# Si el diccionario no esta vacio\n",
    "\t\t\tif palabras[0] not in lexicon_sel:\t\t# Si la palabra no esta en el diccionario\n",
    "\t\t\t\tlista = [pair]\t\t\t\t\t\t# Se crea una lista con la palabra y su valor de polaridad\n",
    "\t\t\t\tlexicon_sel[palabras[0]] = lista\t# Se agrega la lista al diccionario\n",
    "\t\t\telse:\n",
    "\t\t\t\tlexicon_sel[palabras[0]].append (pair)\t# Si la palabra ya esta en el diccionario, se agrega la palabra y su valor de polaridad a la lista\n",
    "\t\telse:\t\t\t\t\t\t\t\t\t\t# Si el diccionario esta vacio\n",
    "\t\t\tlista = [pair]\t\t\t\t\t\t\t# Se crea una lista con la palabra y su valor de polaridad\n",
    "\t\t\tlexicon_sel[palabras[0]] = lista\t\t# Se agrega la lista al diccionario\n",
    "\n",
    "\tinput_file.close()\t\t\t\t\t\t\t\t# Se cierra el archivo\n",
    "\tdel lexicon_sel['Palabra']; #Esta llave se inserta porque es parte del encabezado del diccionario, por lo que se requiere eliminar\n",
    "\t#Estructura resultante\n",
    "\t\t#'hastiar': [('Enojo\\n', '0.629'), ('Repulsi\\xf3n\\n', '0.596')]\n",
    "\treturn lexicon_sel\t\t\t\t\t\t\t\t# Se regresa el diccionario\n",
    "\n",
    "def getSELFeatures(cadenas, lexicon_sel):\n",
    "\t\"\"\"\n",
    "\tFunción que obtiene las características de SEL\n",
    "\t\"\"\"\n",
    "\t#'hastiar': [('Enojo\\n', '0.629'), ('Repulsi\\xf3n\\n', '0.596')]\n",
    "\tfeatures = []\n",
    "\tfor cadena in cadenas:\n",
    "\t\tvalor_alegria = 0.0\n",
    "\t\tvalor_enojo = 0.0\n",
    "\t\tvalor_miedo = 0.0\n",
    "\t\tvalor_repulsion = 0.0\n",
    "\t\tvalor_sorpresa = 0.0\n",
    "\t\tvalor_tristeza = 0.0\n",
    "\t\tcadena_palabras = re.split('\\s+', cadena)\n",
    "\t\tdic = {}\n",
    "\t\tfor palabra in cadena_palabras:\n",
    "\t\t\tif palabra in lexicon_sel:\n",
    "\t\t\t\tcaracteristicas = lexicon_sel[palabra]\n",
    "\t\t\t\tfor emocion, valor in caracteristicas:\n",
    "\t\t\t\t\tif emocion == 'Alegría':\n",
    "\t\t\t\t\t\tvalor_alegria = valor_alegria + float(valor)\n",
    "\t\t\t\t\telif emocion == 'Tristeza':\n",
    "\t\t\t\t\t\tvalor_tristeza = valor_tristeza + float(valor)\n",
    "\t\t\t\t\telif emocion == 'Enojo':\n",
    "\t\t\t\t\t\tvalor_enojo = valor_enojo + float(valor)\n",
    "\t\t\t\t\telif emocion == 'Repulsión':\n",
    "\t\t\t\t\t\tvalor_repulsion = valor_repulsion + float(valor)\n",
    "\t\t\t\t\telif emocion == 'Miedo':\n",
    "\t\t\t\t\t\tvalor_miedo = valor_miedo + float(valor)\n",
    "\t\t\t\t\telif emocion == 'Sorpresa':\n",
    "\t\t\t\t\t\tvalor_sorpresa = valor_sorpresa + float(valor)\n",
    "\t\tdic['__alegria__'] = valor_alegria\n",
    "\t\tdic['__tristeza__'] = valor_tristeza\n",
    "\t\tdic['__enojo__'] = valor_enojo\n",
    "\t\tdic['__repulsion__'] = valor_repulsion\n",
    "\t\tdic['__miedo__'] = valor_miedo\n",
    "\t\tdic['__sorpresa__'] = valor_sorpresa\n",
    "\t\t\n",
    "\t\t#Esto es para los valores acumulados del mapeo a positivo (alegría + sorpresa) y negativo (enojo + miedo + repulsión + tristeza)\n",
    "\t\tdic['acumuladopositivo'] = dic['__alegria__'] + dic['__sorpresa__']\n",
    "\t\tdic['acumuladonegative'] = dic['__enojo__'] + dic['__miedo__'] + dic['__repulsion__'] + dic['__tristeza__']\n",
    "\t\t\n",
    "\t\tfeatures.append (dic)\n",
    "\treturn features"
   ]
  },
  {
   "cell_type": "code",
   "execution_count": 12,
   "metadata": {},
   "outputs": [],
   "source": [
    "def polaridad_cadenas(polaridades):\n",
    "    \"\"\"\n",
    "    Esta función regresa un arreglo con los valores de polaridad de cada cadena\n",
    "    \"\"\"\n",
    "\n",
    "    polaridad_cadenas = []\n",
    "    for x in range(len(polaridades)):\n",
    "        polaridad_cadena_pos = np.array([polaridades[x]['acumuladopositivo']])\n",
    "        polaridad_cadena_neg = np.array([polaridades[x]['acumuladonegative']])\n",
    "        polaridad_cadena = np.concatenate((polaridad_cadena_pos, polaridad_cadena_neg), axis=0)\n",
    "        polaridad_cadenas.append(polaridad_cadena)\n",
    "    return polaridad_cadenas"
   ]
  },
  {
   "cell_type": "markdown",
   "metadata": {},
   "source": [
    "## Verificar si existe el archivo"
   ]
  },
  {
   "cell_type": "code",
   "execution_count": 10,
   "metadata": {},
   "outputs": [],
   "source": [
    "if (os.path.exists('entrenamiento/lexicon_sel.pkl')):\n",
    "\t\tlexicon_sel_file = open ('entrenamiento/lexicon_sel.pkl','rb')\n",
    "\t\tlexicon_sel = pickle.load(lexicon_sel_file)\n",
    "else:\n",
    "\tlexicon_sel = load_sel()\n",
    "\tlexicon_sel_file = open ('lexicon_sel.pkl','wb')\n",
    "\tpickle.dump(lexicon_sel, lexicon_sel_file)\n",
    "\tlexicon_sel_file.close()"
   ]
  },
  {
   "cell_type": "markdown",
   "metadata": {},
   "source": [
    "## Predicción"
   ]
  },
  {
   "cell_type": "code",
   "execution_count": 22,
   "metadata": {},
   "outputs": [],
   "source": [
    "texto_prueba = \"Es un lugar muy poco agradable, no me gusta para nada\""
   ]
  },
  {
   "cell_type": "code",
   "execution_count": 23,
   "metadata": {},
   "outputs": [],
   "source": [
    "# --> Procesar texto\n",
    "texto_prueba = [texto_prueba]\n",
    "\n",
    "vectorizador_prueba = vectorizador.transform(texto_prueba)\n",
    "\n",
    "caracteristicas_prueba = getSELFeatures(texto_prueba, lexicon_sel)\n",
    "polaridad_cadenas_prueba = polaridad_cadenas(caracteristicas_prueba)\n",
    "matriz_prueba = csr_matrix(polaridad_cadenas_prueba)\n",
    "\n",
    "vectorizador_prueba = hstack((vectorizador_prueba, matriz_prueba))\n"
   ]
  },
  {
   "cell_type": "code",
   "execution_count": 24,
   "metadata": {},
   "outputs": [
    {
     "name": "stdout",
     "output_type": "stream",
     "text": [
      "Predicción:  [5]\n"
     ]
    }
   ],
   "source": [
    "# --> Predicción\n",
    "prediccion_prueba = modelo.predict(vectorizador_prueba)\n",
    "\n",
    "# --> Resultados\n",
    "print(\"Predicción: \", prediccion_prueba)"
   ]
  },
  {
   "cell_type": "markdown",
   "metadata": {},
   "source": [
    "## Probar algoritmo"
   ]
  },
  {
   "cell_type": "code",
   "execution_count": 25,
   "metadata": {},
   "outputs": [
    {
     "name": "stdout",
     "output_type": "stream",
     "text": [
      "Probabilidades:  [[0.0274188  0.01589131 0.11770293 0.15819847 0.68078849]]\n"
     ]
    }
   ],
   "source": [
    "# --> Probabilidades\n",
    "probabilidades_prueba = modelo.predict_proba(vectorizador_prueba)\n",
    "print(\"Probabilidades: \", probabilidades_prueba)"
   ]
  }
 ],
 "metadata": {
  "kernelspec": {
   "display_name": "Python 3",
   "language": "python",
   "name": "python3"
  },
  "language_info": {
   "codemirror_mode": {
    "name": "ipython",
    "version": 3
   },
   "file_extension": ".py",
   "mimetype": "text/x-python",
   "name": "python",
   "nbconvert_exporter": "python",
   "pygments_lexer": "ipython3",
   "version": "3.11.3"
  }
 },
 "nbformat": 4,
 "nbformat_minor": 2
}
