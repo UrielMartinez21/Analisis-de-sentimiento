{
 "cells": [
  {
   "cell_type": "markdown",
   "metadata": {},
   "source": [
    "## Bibliotecas"
   ]
  },
  {
   "cell_type": "code",
   "execution_count": 1,
   "metadata": {},
   "outputs": [],
   "source": [
    "import pickle\n",
    "import statistics\n",
    "import pandas as pd\n",
    "from sklearn.metrics import f1_score\n",
    "from sklearn.model_selection import StratifiedKFold\n",
    "from sklearn.model_selection import train_test_split\n",
    "from sklearn.feature_extraction.text import TfidfVectorizer"
   ]
  },
  {
   "cell_type": "code",
   "execution_count": 2,
   "metadata": {},
   "outputs": [],
   "source": [
    "from sklearn.naive_bayes import MultinomialNB\n",
    "from sklearn.linear_model import LogisticRegression"
   ]
  },
  {
   "cell_type": "markdown",
   "metadata": {},
   "source": [
    "## Cargar información"
   ]
  },
  {
   "cell_type": "code",
   "execution_count": 3,
   "metadata": {},
   "outputs": [],
   "source": [
    "with open(\"normalizacion_texto/lista_contenido_normalizado.pkl\", \"rb\") as f:\n",
    "    corpus = pickle.load(f)"
   ]
  },
  {
   "cell_type": "code",
   "execution_count": 4,
   "metadata": {},
   "outputs": [],
   "source": [
    "data = pd.read_excel('apoyo/Rest_Mex_2022.xlsx')\n",
    "y = data['Polarity'].values"
   ]
  },
  {
   "cell_type": "markdown",
   "metadata": {},
   "source": [
    "## Train y test"
   ]
  },
  {
   "cell_type": "code",
   "execution_count": 5,
   "metadata": {},
   "outputs": [],
   "source": [
    "x_train, x_test, y_train, y_test = train_test_split(corpus, y, test_size=0.2, random_state=0)"
   ]
  },
  {
   "cell_type": "markdown",
   "metadata": {},
   "source": [
    "## Representación de texto"
   ]
  },
  {
   "cell_type": "code",
   "execution_count": 6,
   "metadata": {},
   "outputs": [],
   "source": [
    "# Vector tf-idf\n",
    "vectorizador_tfidf = TfidfVectorizer(token_pattern=r'(?u)\\w\\w+|\\w\\w+\\n|\\.')\n",
    "\n",
    "X_train_tfidf = vectorizador_tfidf.fit_transform(x_train).toarray()\n",
    "X_test_tfidf = vectorizador_tfidf.transform(x_test).toarray()\n"
   ]
  },
  {
   "cell_type": "markdown",
   "metadata": {},
   "source": [
    "## KFold Cross Validation"
   ]
  },
  {
   "cell_type": "code",
   "execution_count": 7,
   "metadata": {},
   "outputs": [],
   "source": [
    "clf = LogisticRegression(solver='lbfgs', max_iter=1000)\n",
    "skf = StratifiedKFold(n_splits=5, shuffle=True, random_state=0)\n",
    "f1_macro = []"
   ]
  },
  {
   "cell_type": "code",
   "execution_count": 8,
   "metadata": {},
   "outputs": [
    {
     "name": "stdout",
     "output_type": "stream",
     "text": [
      "Progreso: 100.0%"
     ]
    }
   ],
   "source": [
    "# --> Iteraciones\n",
    "for entrenamiento, prueba in skf.split(X_train_tfidf, y_train):\n",
    "    # --> Validacion cruzada\n",
    "    rasgos_entrenamiento = X_train_tfidf[entrenamiento]\n",
    "    rasgos_prueba = X_train_tfidf[prueba]\n",
    "\n",
    "    clases_entrenamiento = y_train[entrenamiento]\n",
    "    clases_prueba = y_train[prueba]\n",
    "\n",
    "    # --> Entrenamiento\n",
    "    clf.fit(rasgos_entrenamiento, clases_entrenamiento)\n",
    "    clase_predicha = clf.predict(rasgos_prueba)\n",
    "\n",
    "    # --> Métrica de rendimiento\n",
    "    f1_macro.append(f1_score(clases_prueba, clase_predicha, average='macro'))\n",
    "\n",
    "    # --> Porcentaje avanzado\n",
    "    print(f\"\\rProgreso: {len(f1_macro)/skf.get_n_splits():.1%}\", end=\"\")"
   ]
  },
  {
   "cell_type": "code",
   "execution_count": 9,
   "metadata": {},
   "outputs": [
    {
     "name": "stdout",
     "output_type": "stream",
     "text": [
      "F1 macro: 41.0%\n"
     ]
    }
   ],
   "source": [
    "# --> Resultados\n",
    "print(f\"F1 macro: {round(statistics.mean(f1_macro), 2)*100}%\")\n",
    "\n",
    "# --> Guardar resultados en txt uno sobre otro\n",
    "with open(\"resultados/resultados.txt\", \"a\") as f:\n",
    "    f.write(f\"LogisticRegression: {round(statistics.mean(f1_macro), 2)*100}%\\n\")"
   ]
  }
 ],
 "metadata": {
  "kernelspec": {
   "display_name": "Python 3",
   "language": "python",
   "name": "python3"
  },
  "language_info": {
   "codemirror_mode": {
    "name": "ipython",
    "version": 3
   },
   "file_extension": ".py",
   "mimetype": "text/x-python",
   "name": "python",
   "nbconvert_exporter": "python",
   "pygments_lexer": "ipython3",
   "version": "3.11.3"
  }
 },
 "nbformat": 4,
 "nbformat_minor": 2
}
